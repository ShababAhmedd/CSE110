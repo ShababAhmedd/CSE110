{
 "cells": [
  {
   "cell_type": "markdown",
   "metadata": {
    "id": "ZXvFDb3VLf5p"
   },
   "source": [
    "# CSE110 Assignment 7\n",
    "\n",
    "\n",
    "**<font color='red'>[MUST MAINTAIN VARIABLE NAMING CONVENTIONS FOR ALL THE TASKS]</font>**\n",
    "\n",
    "## Part 1: File\n",
    "\n"
   ]
  },
  {
   "cell_type": "markdown",
   "metadata": {
    "id": "4fjLeMMMEEKB"
   },
   "source": [
    "### Task 1\n",
    "\n",
    "Write a python program that reads the first n lines of a text file.\n",
    "\n",
    "Suppose you have a file with all these strings in a file.\n",
    "\n",
    "=========================================================\n",
    "\n",
    "I love Python Programming.\\\n",
    "It is very easy to understand the code.\\\n",
    "It can code very hard problems easily in python code.\\\n",
    "Python programming is the best programming language.\n",
    "\n",
    "=========================================================\n",
    "\n",
    "\n",
    "**Input :**\\\n",
    "2\\\n",
    "**Output :**\\\n",
    "I love Python Programming.\\\n",
    "It is very easy to understand the code.\n",
    "\n",
    "=========================================================\n",
    "\n",
    "**Hint(1):**\\\n",
    "Use counter to control line number.\n",
    "\n",
    "**Hint(2):**\\\n",
    "Use function readlines() to store in a list and then use loop\n",
    "\n",
    "OR you can use readline() in a loop.\n",
    "\n",
    "**Hint(3):**\\\n",
    "You might need to use strip() function"
   ]
  },
  {
   "cell_type": "code",
   "execution_count": 22,
   "metadata": {
    "id": "Kb0Fn1AsEHVR"
   },
   "outputs": [
    {
     "name": "stdout",
     "output_type": "stream",
     "text": [
      "Lines : 2\n",
      "I love Python Programming.\n",
      "It is very easy to understand the code.\n"
     ]
    }
   ],
   "source": [
    "n = int(input('Lines : '))\n",
    "file = open('Readlines.txt',mode = 'r')\n",
    "\n",
    "for index in range (n):\n",
    "    print (file.readline(),end = '')\n"
   ]
  },
  {
   "cell_type": "code",
   "execution_count": 7,
   "metadata": {},
   "outputs": [
    {
     "name": "stdout",
     "output_type": "stream",
     "text": [
      "Lines : 3\n",
      "I love Python Programming.\n",
      "It is very easy to understand the code.\n",
      "It can code very hard problems easily in python code.\n"
     ]
    }
   ],
   "source": [
    "n = int(input('Lines : '))\n",
    "file_one = open('ReadLines.txt',mode = 'r')\n",
    "\n",
    "for index in range (n):\n",
    "    x = file_one.readline()\n",
    "    print (x, end = '')"
   ]
  },
  {
   "cell_type": "markdown",
   "metadata": {
    "id": "6C9IjoWsEJlJ"
   },
   "source": [
    "### Task 2\n",
    "\n",
    "Write a python program to find the longest word in a file. Then print the word.\\\n",
    "**Input: [in a file]**\\\n",
    "I love Python Programming\\\n",
    "It is very easy to understand the code\\\n",
    "It can code very hard problems easily in python code\\\n",
    "Python programming is the best programming language\n",
    "\n",
    "\n",
    "\n",
    "**Output:**\\\n",
    "Programming\n",
    "\n",
    "=========================================================\n",
    "\n",
    "**Hint(1):**\\\n",
    "You can use split function to separate the words into a list.\n",
    "\n",
    "**Hint(2):**\\\n",
    "Use function readlines()"
   ]
  },
  {
   "cell_type": "code",
   "execution_count": 15,
   "metadata": {
    "id": "WucZ7kEOEKrA"
   },
   "outputs": [
    {
     "name": "stdout",
     "output_type": "stream",
     "text": [
      "['I', 'love', 'Python', 'Programming', 'It', 'is', 'very', 'easy', 'to', 'understand', 'the', 'code', 'It', 'can', 'code', 'very', 'hard', 'problems', 'easily', 'in', 'python', 'code', 'Python', 'programming', 'is', 'the', 'best', 'programming', 'language']\n",
      "Programming\n"
     ]
    }
   ],
   "source": [
    "file = open('Finding Longest word.txt')\n",
    "string_one = file.read()\n",
    "list_a = string_one.split()\n",
    "#print (list_a)\n",
    "\n",
    "maximum = list_a[0][0]\n",
    "for lines in list_a:\n",
    "    #print (lines)\n",
    "    if len(lines) > len(maximum):\n",
    "        maximum = lines\n",
    "print (maximum)"
   ]
  },
  {
   "cell_type": "code",
   "execution_count": 24,
   "metadata": {},
   "outputs": [
    {
     "name": "stdout",
     "output_type": "stream",
     "text": [
      "1\n"
     ]
    },
    {
     "ename": "TypeError",
     "evalue": "'>' not supported between instances of 'int' and 'str'",
     "output_type": "error",
     "traceback": [
      "\u001b[0;31m---------------------------------------------------------------------------\u001b[0m",
      "\u001b[0;31mTypeError\u001b[0m                                 Traceback (most recent call last)",
      "\u001b[0;32m<ipython-input-24-8449bd103fc8>\u001b[0m in \u001b[0;36m<module>\u001b[0;34m\u001b[0m\n\u001b[1;32m      8\u001b[0m \u001b[0mprint\u001b[0m \u001b[0;34m(\u001b[0m\u001b[0mmax_len\u001b[0m\u001b[0;34m)\u001b[0m\u001b[0;34m\u001b[0m\u001b[0;34m\u001b[0m\u001b[0m\n\u001b[1;32m      9\u001b[0m \u001b[0;32mfor\u001b[0m \u001b[0mindex\u001b[0m \u001b[0;32min\u001b[0m \u001b[0mrange\u001b[0m \u001b[0;34m(\u001b[0m\u001b[0mlen\u001b[0m\u001b[0;34m(\u001b[0m\u001b[0mlist_a\u001b[0m\u001b[0;34m)\u001b[0m\u001b[0;34m)\u001b[0m\u001b[0;34m:\u001b[0m\u001b[0;34m\u001b[0m\u001b[0;34m\u001b[0m\u001b[0m\n\u001b[0;32m---> 10\u001b[0;31m     \u001b[0;32mif\u001b[0m \u001b[0mlen\u001b[0m\u001b[0;34m(\u001b[0m\u001b[0mlist_a\u001b[0m\u001b[0;34m[\u001b[0m\u001b[0mindex\u001b[0m\u001b[0;34m]\u001b[0m\u001b[0;34m)\u001b[0m \u001b[0;34m>\u001b[0m \u001b[0mmax_len\u001b[0m\u001b[0;34m:\u001b[0m\u001b[0;34m\u001b[0m\u001b[0;34m\u001b[0m\u001b[0m\n\u001b[0m\u001b[1;32m     11\u001b[0m         \u001b[0mmax_len\u001b[0m \u001b[0;34m=\u001b[0m \u001b[0mlist_a\u001b[0m\u001b[0;34m[\u001b[0m\u001b[0mindex\u001b[0m\u001b[0;34m]\u001b[0m\u001b[0;34m\u001b[0m\u001b[0;34m\u001b[0m\u001b[0m\n\u001b[1;32m     12\u001b[0m \u001b[0mprint\u001b[0m \u001b[0;34m(\u001b[0m\u001b[0mmax_len\u001b[0m\u001b[0;34m)\u001b[0m\u001b[0;34m\u001b[0m\u001b[0;34m\u001b[0m\u001b[0m\n",
      "\u001b[0;31mTypeError\u001b[0m: '>' not supported between instances of 'int' and 'str'"
     ]
    }
   ],
   "source": [
    "file_one = open('Finding Longest word.txt')\n",
    "string_one = file_one.read()\n",
    "#print (string_one)\n",
    "list_a = string_one.split()\n",
    "#print (list_a)\n",
    "#print (len(list_a))\n",
    "max_len = len(list_a[0])\n",
    "print (max_len)\n",
    "for index in range (len(list_a)):\n",
    "    if len(list_a[index]) > max_len:\n",
    "        max_len = list_a[index]\n",
    "print (max_len)\n"
   ]
  },
  {
   "cell_type": "markdown",
   "metadata": {
    "id": "Y0dBzRxdEK1R"
   },
   "source": [
    "### Task 3\n",
    "Write a python program that allows you to erase multiple spaces in a text file. Then re-write the sentence without extra spaces in a another text file.\n",
    "\n",
    "=========================================================\n",
    "\n",
    "**Input:**\n",
    "\n",
    "I&nbsp;&nbsp;&nbsp;&nbsp;&nbsp;&nbsp;love  &nbsp;&nbsp;&nbsp;&nbsp;&nbsp;&nbsp;&nbsp;             Python   &nbsp;&nbsp;&nbsp;&nbsp;&nbsp;&nbsp;&nbsp;&nbsp;          Programming\n",
    "\n",
    "**Output:**\\\n",
    "I love Python Programming.\n",
    "\n",
    "=========================================================\n",
    "\n",
    "**Hints:**\\\n",
    "You can use split function to separate the words into a list.\n"
   ]
  },
  {
   "cell_type": "code",
   "execution_count": 13,
   "metadata": {
    "id": "a0yJHr82ENWF"
   },
   "outputs": [
    {
     "name": "stdout",
     "output_type": "stream",
     "text": [
      "/Users/shabab/Downloads\n"
     ]
    }
   ],
   "source": [
    "import os\n",
    "cwd = os.getcwd()\n",
    "print (cwd)"
   ]
  },
  {
   "cell_type": "code",
   "execution_count": 1,
   "metadata": {},
   "outputs": [
    {
     "name": "stdout",
     "output_type": "stream",
     "text": [
      "/Users/shabab/Downloads\n"
     ]
    }
   ],
   "source": [
    "import os\n",
    "cwd = os.getcwd()\n",
    "print (cwd)"
   ]
  },
  {
   "cell_type": "code",
   "execution_count": 11,
   "metadata": {},
   "outputs": [
    {
     "name": "stdout",
     "output_type": "stream",
     "text": [
      "['I', 'love', 'Python', 'Programming']\n"
     ]
    }
   ],
   "source": [
    "file_one = open('test_program.txt')\n",
    "file_two = open('output for test_program.txt','w')\n",
    "\n",
    "string_one = file_one.read()\n",
    "list_a = string_one.split()\n",
    "print (list_a)\n",
    "\n",
    "new_var = ''\n",
    "for word in list_a :\n",
    "    new_var = new_var + ' ' + word\n",
    "    \n",
    "file_two.write(new_var.strip())\n",
    "\n",
    "file_one.close()\n",
    "file_two.close()\n",
    "\n"
   ]
  },
  {
   "cell_type": "code",
   "execution_count": 4,
   "metadata": {},
   "outputs": [
    {
     "name": "stdout",
     "output_type": "stream",
     "text": [
      "['I', 'love', 'Python', 'Programming']\n"
     ]
    }
   ],
   "source": [
    "file_one = open('test_program.txt')\n",
    "file_two = open('output for test_program.txt','w')\n",
    "\n",
    "string_one = file_one.read()\n",
    "list_one = string_one.split()\n",
    "print (list_one)\n",
    "\n",
    "new_var = ''\n",
    "for word in list_one :\n",
    "    new_var = new_var + ' ' + word\n",
    "    \n",
    "file_two.write(new_var.strip())\n",
    "\n",
    "file_one.close()\n",
    "file_two.close()\n"
   ]
  },
  {
   "cell_type": "markdown",
   "metadata": {
    "id": "OOFNxcqqENje"
   },
   "source": [
    "### Task 4\n",
    "Write a Python program to count the number of lines in a text file. Then, finally print the total number of lines.\n",
    "\n",
    "=========================================================\n",
    "\n",
    "**Input:**\\\n",
    "Hello\\\n",
    "What are you doing\\\n",
    "I am fine\n",
    "\n",
    "**Output:**\\\n",
    "3\n"
   ]
  },
  {
   "cell_type": "code",
   "execution_count": 21,
   "metadata": {
    "id": "PRPocuTJEP0v"
   },
   "outputs": [
    {
     "name": "stdout",
     "output_type": "stream",
     "text": [
      "3\n"
     ]
    }
   ],
   "source": [
    "file = open('line_counter.txt')\n",
    "list_a = file.readlines()\n",
    "#print (list_a)\n",
    "\n",
    "counter = 0\n",
    "for lines in list_a:\n",
    "    #print (lines)\n",
    "    counter += 1\n",
    "print (counter)"
   ]
  },
  {
   "cell_type": "code",
   "execution_count": 7,
   "metadata": {},
   "outputs": [
    {
     "name": "stdout",
     "output_type": "stream",
     "text": [
      "['Hello\\n', 'What are you doing\\n', 'I am fine']\n",
      "Hello\n",
      "\n",
      "What are you doing\n",
      "\n",
      "I am fine\n",
      "3\n"
     ]
    }
   ],
   "source": [
    "file_one = open('line_counter.txt')\n",
    "list_a = file_one.readlines()\n",
    "print (list_a)\n",
    "\n",
    "counter = 0\n",
    "for lines in list_a:\n",
    "    print (lines)\n",
    "    counter += 1\n",
    "print (counter)"
   ]
  },
  {
   "cell_type": "markdown",
   "metadata": {
    "id": "LiSNirheEQHf"
   },
   "source": [
    "### Task 5\n",
    "\n",
    "Write a Python program to combine each line from the first file with the corresponding line in the second file and then save it in a 3rd file.\n",
    "\n",
    "Consider, both the files have same number of lines. Assume, each line has a newline(\\n) at the end.\n",
    "\n",
    "=========================================================\n",
    "\n",
    "**Example:**\\\n",
    "**Input from file 1:**\\\n",
    "Hello\\\n",
    "Hi\\\n",
    "Nice\n",
    "\n",
    "**Input from file 2:**\\\n",
    "Bad\\\n",
    "Worse\\\n",
    "Worst\n",
    "\n",
    "**Output in 3rd FIle:**\\\n",
    "Hello Bad\\\n",
    "Hi Worse\\\n",
    "Nice Worst \n",
    "\n",
    "=========================================================\n",
    "\n",
    "**Hint(1):**\\\n",
    " Use the write() function\n",
    "\n",
    "\n",
    "\n"
   ]
  },
  {
   "cell_type": "code",
   "execution_count": 31,
   "metadata": {
    "id": "b-b4xnHLETDY"
   },
   "outputs": [],
   "source": [
    "list_a = []\n",
    "list_b = []\n",
    "combine = ''\n",
    "\n",
    "file_a = open('combine1.txt',mode = 'r')\n",
    "for line in file_a:\n",
    "    list_a.append(line.rstrip())\n",
    "file_a.close()\n",
    "\n",
    "file_b = open('combine2.txt',mode = 'r')\n",
    "for line in file_b:\n",
    "    list_b.append(line.rstrip())\n",
    "file_b.close()\n",
    "    \n",
    "for index in range (len(list_a)):\n",
    "    if index != (len(list_a)-1):\n",
    "        combine = combine + list_a[index] + ' ' + list_b[index] + '\\n'\n",
    "    else :\n",
    "        combine = combine + list_a[index] + ' ' + list_b[index]\n",
    "    \n",
    "\n",
    "file = open('combined.txt',mode = 'w')\n",
    "x = file.write(combine)\n",
    "#print (x)\n",
    "file.close()"
   ]
  },
  {
   "cell_type": "markdown",
   "metadata": {
    "id": "uIYrt-t8ETUQ"
   },
   "source": [
    "\n",
    "### Task 6 (Ungraded - Optional task)\n",
    "Suppose you made a game and you stored information about the game play in a file.\\\n",
    "You stored Name, Score, Lives Used and Characters Killed of each players.\n",
    "\n",
    "**Existing file:**\\\n",
    "Mary,2000,5,25\\\n",
    "John,123455,12,50\\\n",
    "Peter,1500,5,10\\\n",
    "Harry,10000,10,30\\\n",
    "John,122,5,2\\\n",
    "Mary,5,1,1\\\n",
    "Peter,2,1,1\\\n",
    "John,123,5,10\\\n",
    "John,5,6,7\n",
    "\n",
    "**Now you have to make a new file where you have to store the following information:**\\\n",
    "1.In the first line you have to show the name and score of the player who scored the highest score.\n",
    "\n",
    "2.In the second line you have to store the name and lives used of players who used the least lives.\n",
    "\n",
    "3.In the third line you have to show the name and number of games played of the player who played the most games.\n",
    "\n",
    "**Output:**\\\n",
    "Name:John, Score:123455\\\n",
    "Name:Mary, Lives used:1\\\n",
    "Name:John, Games Played:4\n",
    "\n",
    "=========================================================\n",
    "\n",
    "**Hint(1):**\\\n",
    "Use dictionary where necessary.\\\n",
    "You are allowed to use max() min(), list.index(value) and str.split(separator) function.\n",
    "\n",
    "**Hint(2):**\\\n",
    "You need to use split function to get the data. The split function takes the separator as an argument.\n",
    "\n",
    "*Structure:*\n",
    "str.split(separator)\n",
    "\n",
    "*Example:*\n",
    "line = \"John,5,6,7\"\\\n",
    "line.split(',')\n",
    "\n",
    "**Hint(3):**\\\n",
    "You can use both write() and writelines() for writing the answers\n",
    "\n"
   ]
  },
  {
   "cell_type": "code",
   "execution_count": null,
   "metadata": {
    "id": "NOpi8SPREmVw"
   },
   "outputs": [],
   "source": []
  },
  {
   "cell_type": "markdown",
   "metadata": {
    "id": "6J7MA_zNCbCg"
   },
   "source": [
    "## Part 2: Exception\n",
    "\n",
    "This assignment is to guide you to solve everything you have learned so far by implementing Exceptions in Python. \n"
   ]
  },
  {
   "cell_type": "markdown",
   "metadata": {
    "id": "tZow-v3MLoLE"
   },
   "source": [
    "### Task 7\n",
    "Given a list named my_list.\n",
    "my_list=[10,20,30,40,60,100,2,5]\n",
    "\n",
    "Write a python program that takes the position as an input from the user and prints the element of that position from the list. \n",
    "\n",
    "If the user’s input position is not in the range, return an exception stating “Index out of range”.\n",
    "\n",
    "Make sure your program always prints “Program ended” at the end, no matter what happens.\n",
    "\n",
    "=============================\n",
    "\n",
    "**Hint:** Use finally block\n",
    "\n",
    "=============================\n",
    "\n",
    "**Example 1:** \\\n",
    "**Input:**\\\n",
    "1\\\n",
    "**Output:**\\\n",
    "20\\\n",
    "Program ended\n",
    "\n",
    "=============================\n",
    "\n",
    "**Example 2:** \\\n",
    "**Input:**\\\n",
    "10\\\n",
    "**Output:**\\\n",
    "Index out of range.\\\n",
    "Program ended\n"
   ]
  },
  {
   "cell_type": "code",
   "execution_count": 2,
   "metadata": {
    "id": "c9yKuS5kLdDO"
   },
   "outputs": [
    {
     "name": "stdout",
     "output_type": "stream",
     "text": [
      "Index no. : 10\n",
      "Index out of range\n",
      "Program ended\n"
     ]
    }
   ],
   "source": [
    "my_list=[10,20,30,40,60,100,2,5]\n",
    "\n",
    "try:\n",
    "    position = int(input('Index no. : '))\n",
    "    num = my_list[position]\n",
    "    print (num)\n",
    "\n",
    "except IndexError:\n",
    "    print ('Index out of range')\n",
    "\n",
    "finally:\n",
    "    print ('Program ended')"
   ]
  },
  {
   "cell_type": "markdown",
   "metadata": {
    "id": "gD4MMyO_Mtw4"
   },
   "source": [
    "### Task 8\n",
    "\n",
    "Suppose you have a dictionary named my_dictionary containing the name of some groceries and their prices.\\\n",
    "my_dictionary={“Potato”:12, “Onion”:16, “Ginger”:15, “Garlic”:12, “Tomato”:15}\n",
    "\n",
    "Now write a python program that takes the grocerie names as input from the users and shows the total price of the groceries.\n",
    "\n",
    "Some exceptions to handle:\n",
    "* Handle the exception when the given key is not present in the dictionary.\n",
    "* Handle the exception when the summation variable is not initialized. (the variable to store the total price has been initialized at 0 or not)\n",
    "\n",
    "=============================\n",
    "\n",
    "**Example 1:** \\\n",
    "**Input:**\\\n",
    "Potato,Onion,Ginger\\\n",
    "**Output:**\\\n",
    "43\n",
    "\n",
    "=============================\n",
    "\n",
    "**Example 2:** \\\n",
    "**Input:**\\\n",
    "Potato,Onion,Ginger,Beef\\\n",
    "**Output:**\\\n",
    "Some groceries are not available in the dictionary.\n"
   ]
  },
  {
   "cell_type": "code",
   "execution_count": 3,
   "metadata": {
    "id": "15umlUXTNe5N"
   },
   "outputs": [
    {
     "name": "stdout",
     "output_type": "stream",
     "text": [
      "Grocery list : Potato,Onion,Ginger\n",
      "43\n"
     ]
    }
   ],
   "source": [
    "my_dictionary={'Potato':12, 'Onion':16, 'Ginger':15, 'Garlic':12, 'Tomato':15}\n",
    "\n",
    "try:\n",
    "    groceries = input('Grocery list : ')\n",
    "    items = groceries.split(',')\n",
    "    #print (items)\n",
    "    price = 0\n",
    "    for index in items:\n",
    "        price = price + my_dictionary[index]\n",
    "    print (price)\n",
    "\n",
    "except KeyError:\n",
    "    print ('Some groceries are not available in the dictionary.')\n",
    "except NameError:\n",
    "    print ('the variable to store the total price has been initialized at 0 or not')\n",
    "    \n"
   ]
  },
  {
   "cell_type": "markdown",
   "metadata": {
    "id": "l5SgF6kTN7vY"
   },
   "source": [
    "### Task 9\n",
    "Write a python program that takes two lists as input from the user, multiplies the index wise elements of the two lists and adds it to a new variable. While doing the program you should handle the following exceptions:\n",
    "* Return an exception when the new variable is not declared stating “The new variable is not declared”.\n",
    "* Return an exception if an element in a list is not a number stating “The list has some non number values”.\n",
    "* Return an exception if there is an index out of bound stating “Index out of bound”.\n",
    "\n",
    "=============================\n",
    "\n",
    "**Example 1:** \\\n",
    "**Input:**\\\n",
    "list_one = [1, a, 2, 4]\\\n",
    "list_two =[5, 6, 7, 8]\\\n",
    "**Output:**\\\n",
    "The list has some non number values\n",
    "\n",
    "=================\n",
    "\n",
    "**Example 2:** \\\n",
    "**Input:**\\\n",
    "list_one=[1, 2, 3, 4, 5]\\\n",
    "list_two=[1, 2, 3, 4]\\\n",
    "**Output:**\\\n",
    "Index out of bound\n",
    "\n",
    "=================\n",
    "\n",
    "**Example 3:** \\\n",
    "**Input:**\\\n",
    "list_one=[1,2,3,4]\\\n",
    "list_two=[5,6,7,8]\\\n",
    "**Output:**\\\n",
    "70\n",
    "\n",
    "\n"
   ]
  },
  {
   "cell_type": "code",
   "execution_count": 7,
   "metadata": {
    "id": "oFpEZFRhOlvV"
   },
   "outputs": [
    {
     "name": "stdout",
     "output_type": "stream",
     "text": [
      "List_one length : 4\n",
      "Elements : 1\n",
      "Elements : 2\n",
      "Elements : 3\n",
      "Elements : 4\n",
      "List_two length : 4\n",
      "Elements : 1\n",
      "Elements : 2\n",
      "Elements : 3\n",
      "Elements : 4\n",
      "30\n"
     ]
    }
   ],
   "source": [
    "size1 = int(input('List_one length : '))\n",
    "list_one = []\n",
    "list_two = []\n",
    "\n",
    "try: \n",
    "    for index in range (size1):\n",
    "        list_one_element = int(input('Elements : '))\n",
    "        list_one.append(list_one_element)\n",
    "    size2 = int(input('List_two length : '))\n",
    "    for index in range (size2):\n",
    "        list_two_element = int(input('Elements : '))\n",
    "        list_two.append(list_two_element)\n",
    "    #print ('List_one : ',list_one)\n",
    "    #print ('List_two : ',list_two)\n",
    "\n",
    "    new_list = []\n",
    "    max_length = 0\n",
    "    length_one = len(list_one)\n",
    "    length_two = len(list_two)\n",
    "\n",
    "    if length_one > length_two:\n",
    "        max_length = length_one\n",
    "    else:\n",
    "        max_length = length_two\n",
    "    sum1 = 0\n",
    "    for index in range (max_length):\n",
    "        mul = list_one[index] * list_two[index]\n",
    "        sum1 = sum1 + mul\n",
    "    print (sum1)\n",
    "\n",
    "except ValueError:\n",
    "    print ('The list has some non number values')\n",
    "except IndexError:\n",
    "    print ('Index out of bound')\n",
    "except NameError:\n",
    "    print ('The new variable is not declared')"
   ]
  },
  {
   "cell_type": "markdown",
   "metadata": {
    "id": "iBqIUN-WOnvW"
   },
   "source": [
    "### Task 10\n",
    "Write a python program that will take a string input from the user. Your task is to count the number of vowels and consonants in the string.\n",
    "\n",
    "Using try, if the number of vowels is greater than or equal to the number of consonants than raise a runtime error. Print 'Number of vowels greater/equal to consonants. Please, paraphrase'.\\\n",
    "Otherwise, print 'The sentence will work'. \n",
    "\n",
    "**Note:** a,e,i,o,u are called vowels and all the other 21 english alphabets are consonants.\n",
    "\n",
    "=============================\n",
    "\n",
    "**Example 1:** \\\n",
    "**Input:**\\\n",
    "'his age is 10'\\\n",
    "**Output:**\\\n",
    "Number of vowels is greater/equal. Paraphrase the sentence\n",
    "\n",
    "=================\n",
    "\n",
    "**Example 2:** \\\n",
    "**Input:**\\\n",
    "'he is 10 years old'\\\n",
    "**Output:**\\\n",
    "The sentence will work"
   ]
  },
  {
   "cell_type": "code",
   "execution_count": 13,
   "metadata": {
    "id": "-4kg2W2EPwVo"
   },
   "outputs": [
    {
     "name": "stdout",
     "output_type": "stream",
     "text": [
      "he is 10 years old\n",
      "The sentence will work\n"
     ]
    }
   ],
   "source": [
    "string = input()\n",
    "vowels = 0\n",
    "consonants = 0\n",
    "vowlist = ['a','e','i','o','u','A','E','I','O','U']\n",
    "num = '0123456789'\n",
    "\n",
    "for index in string:\n",
    "    if index not in vowlist : \n",
    "        if index != ' ' and index not in num:\n",
    "          consonants += 1\n",
    " \n",
    "    else:\n",
    "        vowels += 1                          \n",
    "#print (consonants)\n",
    "#print (vowels)\n",
    "\n",
    "try: \n",
    "    if vowels >= consonants:\n",
    "        raise RuntimeError     \n",
    "    else:\n",
    "       print ('The sentence will work')\n",
    "\n",
    "except RuntimeError:\n",
    "     print ('Number of vowels is greater/equal. Paraphrase the sentence')"
   ]
  },
  {
   "cell_type": "markdown",
   "metadata": {
    "id": "pl4CDeUkPxeM"
   },
   "source": [
    "### Task 11\n",
    "Write a python program that finds the corresponding energy values from a list of frequency values which are taken as input from the user, using the formula, $E=h*f$, where h is a constant of value: 1050\n",
    "\n",
    "Exceptions to handle:\n",
    "* Make sure all elements in the lists are numbers\n",
    "\n",
    "=============================\n",
    "\n",
    "**Example 1:** \\\n",
    "**Input:**\\\n",
    "[2,3]\\\n",
    "**Output:**\\\n",
    "[2100, 3150]\n",
    "\n",
    "=================\n",
    "\n",
    "**Example 2:** \\\n",
    "**Input:**\\\n",
    "[2,boss]\\\n",
    "**Output:**\\\n",
    "Wrong input type"
   ]
  },
  {
   "cell_type": "code",
   "execution_count": 21,
   "metadata": {
    "id": "vdYQH9qnQvVo"
   },
   "outputs": [
    {
     "name": "stdout",
     "output_type": "stream",
     "text": [
      "Total Number of frequency values : 2\n",
      "Values : 2\n",
      "Values : boss\n",
      "Wrong input type\n"
     ]
    }
   ],
   "source": [
    "try:\n",
    "    length = int(input('Total Number of frequency values : '))\n",
    "    frequency_list = []\n",
    "    for index in range (length):\n",
    "        frequency = int(input('Values : '))\n",
    "        frequency_list.append(frequency)\n",
    "    #print (frequency_list)\n",
    "\n",
    "    h = 1050\n",
    "    energy_value = []\n",
    "    for f in frequency_list:\n",
    "        E = h * f\n",
    "        energy_value.append(E)\n",
    "    print (energy_value)\n",
    "\n",
    "except ValueError:\n",
    "    print ('Wrong input type')\n"
   ]
  },
  {
   "cell_type": "markdown",
   "metadata": {
    "id": "RdshPzpJRcsD"
   },
   "source": [
    "### Task 12\n",
    "Write a python function that will remove a given character from a sentence based on the starting and ending index of the sentence. In the place of the removed characters, add the count of the number of characters removed so far. For this program, you need to take 4 user inputs.\n",
    "* Sentence\n",
    "* Character to be removed\n",
    "* Starting index (inclusive)\n",
    "* Ending index (inclusive)\n",
    "\n",
    "Few exceptions to catch: \n",
    "* Name Error if a variable is not found. Print ‘Name Error: Variable not defined’\n",
    "* Value Error if the starting index and ending index is not an integer. Print ‘Value Error: Wrong input, please enter an integer value.’\n",
    "* Type Error when adding count in the new sentence. Print ‘Type Error: Cannot add integer value with string.’\n",
    "* Index Error if the starting and ending index is out of range. Print ‘Index Error: Index is outside the range of sentence length.’\n",
    "* For other exceptions, catch Exception. Print ‘Some other error occurred.’\n",
    "\n",
    "If no exception occurred, print the new string using else block. At the end using finally, print ‘The program execution is complete’.\n",
    "\n",
    "=============================\n",
    "\n",
    "**Example 1:** \\\n",
    "**Input:**\\\n",
    "'my python programming book'\\\n",
    "'m'\\\n",
    "2\\\n",
    "20\\\n",
    "**Output:**\\\n",
    "my python progra12ing book\\\n",
    "The program execution is complete\n",
    "\n",
    "=================\n",
    "\n",
    "**Example 2:** \\\n",
    "**Input:**\\\n",
    "'my python programming book'\\\n",
    "'m'\\\n",
    "2.5\\\n",
    "20\\\n",
    "**Output:**\\\n",
    "Value Error: Wrong input, please enter an integer value.\\\n",
    "The program execution is complete\n",
    "\n",
    "=================\n",
    "\n",
    "**Example 3:** \\\n",
    "**Input:**\\\n",
    "'my python programming book'\\\n",
    "'m'\\\n",
    "2\\\n",
    "100\\\n",
    "**Output:**\\\n",
    "Index Error: Index is outside the range of sentence length.\\\n",
    "The program execution is complete\n",
    "\n",
    "=================\n",
    "\n",
    "**Hint(1):**\\\n",
    "For ensuring starting index and ending index value to be integer use the builtin function isinstance(value, data_type)\n"
   ]
  },
  {
   "cell_type": "code",
   "execution_count": 2,
   "metadata": {
    "id": "bcU6dV5BSl7d"
   },
   "outputs": [
    {
     "name": "stdout",
     "output_type": "stream",
     "text": [
      "my python programming book\n",
      "m\n",
      "2\n",
      "20\n",
      "my python progra12ingg book\n",
      "The program execution is complete.\n"
     ]
    }
   ],
   "source": [
    "try:\n",
    "       \n",
    "    string = input()\n",
    "    char = input()\n",
    "    starting_index = int(input())\n",
    "    ending_index = int(input())    \n",
    "    count = 0\n",
    "    firstCut = string[0:starting_index+1]\n",
    "    if not(isinstance(starting_index,int)) or not(isinstance(ending_index,int)):\n",
    "        raise ValueError()\n",
    "    else:\n",
    "        for index in range (starting_index+1,ending_index+1):\n",
    "            if string[index] == char:\n",
    "                count += 1\n",
    "                firstCut = firstCut + str(count)\n",
    "            else:\n",
    "                firstCut = firstCut + string[index]\n",
    "        secondCut = string[ending_index:]\n",
    "        concatenate = firstCut + secondCut\n",
    "        \n",
    "        \n",
    "except ValueError:\n",
    "    print ('Value Error: Wrong input, please enter an integer value.')\n",
    "except TypeError:\n",
    "    print ('Type Error: Cannot add integer value with string.')\n",
    "except IndexError:\n",
    "    print ('Index Error: Index is outside the range of sentence length.')\n",
    "except NameError:\n",
    "    print ('Name Error: Variable not defined')\n",
    "except IndexError:\n",
    "    print ('Index Error: Index is outside the range of sentence length.')\n",
    "except Exception:\n",
    "    print ('Some other error occurred.')\n",
    "else:\n",
    "    print (concatenate)\n",
    "finally:\n",
    "    print ('The program execution is complete.')"
   ]
  },
  {
   "cell_type": "code",
   "execution_count": 43,
   "metadata": {},
   "outputs": [
    {
     "name": "stdout",
     "output_type": "stream",
     "text": [
      "2\n"
     ]
    }
   ],
   "source": [
    "x = int(2.5)\n",
    "print (x)"
   ]
  },
  {
   "cell_type": "markdown",
   "metadata": {
    "id": "SjU5ufx8Snv3"
   },
   "source": [
    "### Task 13\n",
    "Read a **file** from the user which contains the  name and salary of employees. Convert that to a dictionary where the key is the name of each employee and value is the salary of that employee. Then find the total cost for the company that it needs to pay through employees’ salary. Print the dictionary and sum if no exception occurs.\n",
    "\n",
    "Exception to handle:\n",
    "* check whether file is actually there\n",
    "* Check whether the salary in each line is a number or not.\n",
    "* Raise error if there are extra numbers or names\n",
    "\n",
    "=============================\n",
    "\n",
    "**Example 1:** \\\n",
    "**Input:**\\\n",
    "Saadat 100\\\n",
    "Farzad 200\\\n",
    "Atef 300\\\n",
    "**Output:**\\\n",
    "dict={Saadat : 100, Farzad : 200, Atef : 300}\\\n",
    "Sum = 600\n",
    "\n",
    "=================\n",
    "\n",
    "**Example 2:** \\\n",
    "**Input:**\\\n",
    "Saadat 100\\\n",
    "Farzad 200\\\n",
    "Atef 300\\\n",
    "John\\\n",
    "**Output:**\\\n",
    "Extra Statement\n",
    "\n",
    "**Example 3:** \\\n",
    "**Input:**\\\n",
    "Saadat 100\\\n",
    "Farzad 200\\\n",
    "Atef john\\\n",
    "\n",
    "**Output:**\\\n",
    "Salary cannot be string\n"
   ]
  },
  {
   "cell_type": "code",
   "execution_count": 6,
   "metadata": {
    "id": "SUxJ1iCXUAPg"
   },
   "outputs": [
    {
     "name": "stdout",
     "output_type": "stream",
     "text": [
      "['Saadat', '100']\n",
      "['Farzad', '200']\n",
      "['Atef', '300']\n",
      "Extra Statement\n",
      "Salary cannot be string\n",
      "È\n"
     ]
    }
   ],
   "source": [
    "try:\n",
    "    file = open('employees.txt',mode = 'r')\n",
    "except FileNotFoundError as msg:\n",
    "    print(msg)\n",
    "\n",
    "dict = {}\n",
    "sum = 0\n",
    "try:\n",
    "    for line in file:\n",
    "        list = line.split()\n",
    "        print (list)\n",
    "        \n",
    "    dict[list[0]]=list[1]\n",
    "    for salary in dict.values():\n",
    "        sum+=salary\n",
    "    print(dict)\n",
    "    print(\"sum=\",sum)\n",
    "    if len(list) != 2:\n",
    "        raise Exception\n",
    "except Exception:\n",
    "    print ('Extra Statement')\n",
    "    \n",
    "employer = list[0]\n",
    "try:\n",
    "    salary = int(list[1])\n",
    "    if not ord(salary) >= 47 and ord(salary) <= 56:\n",
    "        raise Exception\n",
    "except Exception:\n",
    "    print ('Salary cannot be string')\n",
    "    \n",
    "\n",
    "\n",
    "    "
   ]
  },
  {
   "cell_type": "code",
   "execution_count": 58,
   "metadata": {},
   "outputs": [
    {
     "name": "stdout",
     "output_type": "stream",
     "text": [
      "{'Saadat': 100, 'Farzad': 200, 'Atef': 300}\n",
      "sum= 600\n"
     ]
    }
   ],
   "source": []
  },
  {
   "cell_type": "markdown",
   "metadata": {
    "id": "GC6Y943uUNHY"
   },
   "source": [
    "### Task 14\n",
    "Imagine Salman Khan is going to the sets of a new movie. He decides to cycle everyday on his way to the sets. For that he uses a distance calculator which finds the distance based on the present day's date, which is asked as an input from the user. You should first take the day and then the month as your inputs.\n",
    "The inputs should be stored in variables named `day` and `month` The distance calculator uses the following formulae to calculate a number which dictates the number of kilometers he must cycle on his way to work.\n",
    "\n",
    "Distance = |if day<10, `5+(day*2)/month`\\\n",
    "&nbsp;&nbsp;&nbsp;&nbsp;&nbsp;&nbsp;&nbsp;&nbsp;&nbsp;&nbsp;&nbsp;&nbsp;&nbsp;&nbsp;&nbsp;&nbsp;&nbsp;&nbsp;&nbsp; |else, `3+(day/month)`\n",
    "\n",
    "\n",
    "Exceptions to handle:\\\n",
    "-Check for 0 division error exception\\\n",
    "-Type error exception when taking date as input(if the input does not contain number)\\\n",
    "-Value error exception, as day can not be greater than 31 and month can not be greater than 12\n",
    "\n",
    "\n",
    "\n",
    "\n",
    "\n",
    "=============================\n",
    "\n",
    "\n",
    "**Example 1:** \\\n",
    "**Input:**\\\n",
    "3\\\n",
    "5\\\n",
    "**Output:**\\\n",
    "6.2 kilometres\n",
    "\n",
    "=================\n",
    "\n",
    "**Example 2:** \\\n",
    "**Input:**\\\n",
    "2\\\n",
    "0\\\n",
    "**Output:**\\\n",
    "0 is not a valid month\n",
    "\n",
    "=============================\n",
    "\n",
    "**Example 3:** \\\n",
    "**Input:**\\\n",
    "35\\\n",
    "12\\\n",
    "**Output:**\\\n",
    "35 is not a valid day of any month\n",
    "\n",
    "=============================\n",
    "\n",
    "**Example 4:** \\\n",
    "**Input:**\\\n",
    "Hello\\\n",
    "12\\\n",
    "**Output:**\\\n",
    "Please do not enter any string as input\n",
    "\n",
    "=============================\n",
    "\n",
    "\n",
    "**Example 5:** \\\n",
    "**Input:**\\\n",
    "15\\\n",
    "12\\\n",
    "**Output:**\\\n",
    "4.25 kilometres\n",
    "\n",
    "\n",
    "**Hint(1):**\\\n",
    "Can use the built-in isdigit() function OR the ASCII values ensure numbers as inputs\n",
    "\n",
    "\n",
    "**Hint(2):**\\\n",
    "Print the outputs in the except block with the help of conditional statements\n",
    "\n",
    "\n"
   ]
  },
  {
   "cell_type": "code",
   "execution_count": 7,
   "metadata": {
    "id": "fg9mQUaEWH7a"
   },
   "outputs": [
    {
     "name": "stdout",
     "output_type": "stream",
     "text": [
      "Day : Hello\n",
      "35 is not a valid day of any month\n"
     ]
    }
   ],
   "source": [
    "try:\n",
    "\n",
    "    day = int(input('Day : '))\n",
    "    \n",
    "    #if day.isdigit() != True:\n",
    "        \n",
    "        #raise Exception\n",
    "    if day > 31:\n",
    "        raise ValueError\n",
    "    \n",
    "    month = int(input('Month : '))\n",
    "    \n",
    "    #if month.isdigit() != True:\n",
    "        #raise Exception \n",
    "    if month > 12:\n",
    "        raise ValueError\n",
    "\n",
    "    if day < 10:\n",
    "        distance = 5+(day)*2/(month)\n",
    "    else:\n",
    "        distance = 3+(day)/(month)\n",
    "\n",
    "    print ('Distance : ',distance,'kilometres')\n",
    "\n",
    "except ZeroDivisionError:\n",
    "    print ('0 is not a valid month')\n",
    "except ValueError:\n",
    "    print ('35 is not a valid day of any month')\n",
    "except Exception:\n",
    "    print ('Please do not enter any string as input')\n"
   ]
  },
  {
   "cell_type": "markdown",
   "metadata": {
    "id": "2Xzq6xJNWvbf"
   },
   "source": [
    "### Task 15\n",
    "Write a python program to make a calculator. The user must input a string consisting of a number, operator and another number separated by white spaces.\n",
    "* If the user’s input does not contain 3 elements, raise an **exception error** stating \"Input does not contain 3 elements/Wrong operator\".\n",
    "* If the user inputs any other values except numbers in first and third position of the input, raise **value error** exception stating \"Input does not contain numbers.\" \n",
    "* If the user does not input ‘+’ or ‘-’ or ’/’ or ‘*’ or ‘%’ in second position of the input, again raise an **exception error** stating \"Input does not contain 3 elements/Wrong operator\".\n",
    "\n",
    "* In case of division, also handle **divide by zero exception**.\n",
    "\n",
    "\n",
    "If all the inputs are correct, calculate the result and print the value.\n",
    "\n",
    "\n",
    "=============================\n",
    "\n",
    "\n",
    "**Example 1:** \\\n",
    "**Input:**\\\n",
    "1 + 1 + 1\\\n",
    "**Output:**\\\n",
    "Input does not contain 3 elements/Wrong operator\n",
    "\n",
    "=================\n",
    "\n",
    "**Example 2:** \\\n",
    "**Input:**\\\n",
    "A * B\\\n",
    "**Output:**\\\n",
    "Input does not contain numbers.\n",
    "\n",
    "=================\n",
    "\n",
    "**Example 3:** \\\n",
    "**Input:**\\\n",
    "1 $ 3\\\n",
    "**Output:**\\\n",
    "Input does not contain 3 elements/Wrong operator\n",
    "\n",
    "=================\n",
    "\n",
    "**Example 4:** \\\n",
    "**Input:**\\\n",
    "1 + 1\\\n",
    "**Output:**\\\n",
    "The answer is : 2\n"
   ]
  },
  {
   "cell_type": "code",
   "execution_count": 12,
   "metadata": {
    "id": "vX2d7DiVXbhc"
   },
   "outputs": [
    {
     "name": "stdout",
     "output_type": "stream",
     "text": [
      "Calculate : 1+1\n",
      "Input does not contain 3 elements/Wrong operator.\n"
     ]
    }
   ],
   "source": [
    "try: \n",
    "\n",
    "    cal = input('Calculate : ')\n",
    "\n",
    "    operator = ['+','-','*','%']\n",
    "    if len(cal) > 3 or len(cal) < 3:\n",
    "        raise Exception\n",
    "    if ord(int(cal[0])) >= 47 and ord(int(cal[0])) <= 56:\n",
    "        raise ValueError\n",
    "    if cal[1] not in operator:\n",
    "        raise Exception\n",
    "\n",
    "    if cal[1] == '+':\n",
    "        add = int(cal[0]) + int(cal[2])\n",
    "    elif cal[1] == '-':\n",
    "        sub = int(cal[0]) - int(cal[2])\n",
    "    elif cal[1] == '/':\n",
    "        div = int(cal[0]) / int(cal[2])\n",
    "    elif cal[1] == '%':\n",
    "        mod = int(cal[0]) % int(cal[2])\n",
    "\n",
    "except ValueError:\n",
    "    print ('Input does not contain numbers.')\n",
    "except ZeroDivisionError as msg:\n",
    "    print (msg)\n",
    "except Exception:\n",
    "    print ('Input does not contain 3 elements/Wrong operator.')\n",
    "\n",
    "#asci value of numbers(47 - 56)"
   ]
  },
  {
   "cell_type": "code",
   "execution_count": 35,
   "metadata": {
    "id": "WXQ2F6GODSwM"
   },
   "outputs": [
    {
     "name": "stdout",
     "output_type": "stream",
     "text": [
      "<_io.TextIOWrapper name='prob2.txt' mode='w' encoding='UTF-8'>\n",
      "<_io.TextIOWrapper name='prob2.txt' mode='w' encoding='UTF-8'>\n",
      "<_io.TextIOWrapper name='prob2.txt' mode='w' encoding='UTF-8'>\n",
      "<_io.TextIOWrapper name='prob2.txt' mode='w' encoding='UTF-8'>\n",
      "<_io.TextIOWrapper name='prob2.txt' mode='w' encoding='UTF-8'>\n"
     ]
    }
   ],
   "source": [
    "file_one = open('prob1.txt')\n",
    "file_two = open ('prob2.txt','w')\n",
    "\n",
    "for line in file_one:\n",
    "    #print(line)\n",
    "    string_one = line.split()\n",
    "    #print (string_one)\n",
    "    file_two.write(string_one[1]+'\\n')\n",
    "    print (file_two)\n",
    "    \n",
    "    \n",
    "\n",
    "file_one.close()\n",
    "file_two.close()"
   ]
  },
  {
   "cell_type": "code",
   "execution_count": null,
   "metadata": {},
   "outputs": [],
   "source": []
  },
  {
   "cell_type": "code",
   "execution_count": null,
   "metadata": {},
   "outputs": [],
   "source": []
  }
 ],
 "metadata": {
  "colab": {
   "collapsed_sections": [],
   "name": "CSE110 Assignment07 (File _ Exception).ipynb",
   "provenance": []
  },
  "kernelspec": {
   "display_name": "Python 3",
   "language": "python",
   "name": "python3"
  },
  "language_info": {
   "codemirror_mode": {
    "name": "ipython",
    "version": 3
   },
   "file_extension": ".py",
   "mimetype": "text/x-python",
   "name": "python",
   "nbconvert_exporter": "python",
   "pygments_lexer": "ipython3",
   "version": "3.8.3"
  }
 },
 "nbformat": 4,
 "nbformat_minor": 1
}
