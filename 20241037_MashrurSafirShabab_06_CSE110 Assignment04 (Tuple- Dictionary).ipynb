{
 "cells": [
  {
   "cell_type": "markdown",
   "metadata": {
    "id": "U4PRkuyUtDRw"
   },
   "source": [
    "# CSE110 Assignment 4\n",
    "\n",
    "\n",
    "## Write the Python code of the following problems:\n",
    "**<font color='red'>[MUST MAINTAIN VARIABLE NAMING CONVENTIONS FOR ALL THE TASKS]</font>**\n"
   ]
  },
  {
   "cell_type": "markdown",
   "metadata": {
    "id": "PD425BrvtDRy"
   },
   "source": [
    "## Part 1: Tuple"
   ]
  },
  {
   "cell_type": "markdown",
   "metadata": {
    "id": "FNOorLYXtDRz"
   },
   "source": [
    "### Task 1\n",
    "\n",
    "Assume, you have been given a tuple.\n",
    "\n",
    "a_tuple = (\"The Institute\",\\\n",
    "        (\"Best Mystery & Thriller\", \"The Silent Patient\", 68821),\\\n",
    "        75717,\\\n",
    "        [1, 2, 3, 400, 5, 6, 7],\\\n",
    "        (\"Best Fiction\", \"The Testaments\", 98291)\\\n",
    ")\n",
    "\n",
    "Write **one line** of Python code to access and print the value 400.\n",
    "\n",
    "Output: 400\n",
    "\n"
   ]
  },
  {
   "cell_type": "code",
   "execution_count": 86,
   "metadata": {
    "id": "NDKB1cIMtDR0"
   },
   "outputs": [
    {
     "name": "stdout",
     "output_type": "stream",
     "text": [
      "400\n"
     ]
    }
   ],
   "source": [
    "a_tuple = (\"The Institute\",\n",
    "(\"Best Mystery & Thriller\", \"The Silent Patient\", 68821),\n",
    "75717,\n",
    "[1, 2, 3, 400, 5, 6, 7],\n",
    "(\"Best Fiction\", \"The Testaments\", 98291)\n",
    ")\n",
    "\n",
    "print (a_tuple[3][3])\n",
    "\n"
   ]
  },
  {
   "cell_type": "markdown",
   "metadata": {
    "id": "BXlIw1svtDR-"
   },
   "source": [
    "### Task 2\n",
    "\n",
    "Assume, you have been given a tuple. Write a Python program that creates a **new tuple** excluding the first and last two elements of the given tuple and prints the new tuple. \n",
    "\n",
    "================================================================\n",
    "\n",
    "**Hint:** You need to use tuple slicing.\n",
    "\n",
    "================================================================\n",
    "\n",
    "**Input 1:**\\\n",
    "(10, 20, 24, 25, 26, 35, 70)\\\n",
    "**Output 1:**\\\n",
    "(24, 25, 26)\n",
    "\n",
    "================================================================\n",
    "\n",
    "**Input 2:**\\\n",
    "(-10, 20, 30, 40)\\\n",
    "**Output 2:**\\\n",
    "()\n",
    "\n",
    "================================================================\n",
    "\n",
    "**Input 3:**\\\n",
    "(-10, 20, 25, 30, 40)\\\n",
    "**Output 3:**\\\n",
    "(25,)\n",
    "\n",
    "\n"
   ]
  },
  {
   "cell_type": "code",
   "execution_count": 87,
   "metadata": {
    "id": "FTJ-5AmNtDR_"
   },
   "outputs": [
    {
     "name": "stdout",
     "output_type": "stream",
     "text": [
      "(24, 25, 26)\n",
      "()\n",
      "(25,)\n"
     ]
    }
   ],
   "source": [
    "#input_1\n",
    "old_tuple = (10, 20, 24, 25, 26, 35, 70)\n",
    "new_tuple = old_tuple[2:5:1]\n",
    "\n",
    "print (new_tuple)\n",
    "\n",
    "\n",
    "#input_2\n",
    "old_tuple = (-10, 20, 30, 40)\n",
    "new_tuple = old_tuple[4:4:1]\n",
    "\n",
    "print (new_tuple)\n",
    "\n",
    "#input_3\n",
    "old_tuple = (-10, 20, 25, 30, 40)\n",
    "new_tuple = old_tuple[2:3:1]\n",
    "\n",
    "print (new_tuple)"
   ]
  },
  {
   "cell_type": "markdown",
   "metadata": {
    "id": "Z3GS2TE6tDSG"
   },
   "source": [
    "### Task 3\n",
    "\n",
    "Assume, you have been given a tuple. \n",
    "\n",
    "\n",
    "book_info = (\\\n",
    "    (\"Best Mystery & Thriller\",\"The Silent Patient\",68,821),\\\n",
    "    (\"Best Horror\",\"The Institute\",75,717),\\\n",
    "    (\"Best History & Biography\",\"The five\",31,783 ),\\\n",
    "    (\"Best Fiction\",\"The Testaments\",98,291)\\\n",
    ")\n",
    "\n",
    "Write a Python program that prints its size and all its elements.\n",
    "\n",
    "===============================================================\n",
    "\n",
    "**Output:**\\\n",
    "Size of the tuple is: 4\\\n",
    "('Best Mystery & Thriller', 'The Silent Patient', 68, 821)\\\n",
    "('Best Horror', 'The Institute', 75, 717)\\\n",
    "('Best History & Biography', 'The five', 31, 783)\\\n",
    "('Best Fiction', 'The Testaments', 98, 291)\n"
   ]
  },
  {
   "cell_type": "code",
   "execution_count": 88,
   "metadata": {
    "id": "RPFYcAjntDSG"
   },
   "outputs": [
    {
     "name": "stdout",
     "output_type": "stream",
     "text": [
      "Size of the tuple is: 4\n",
      "('Best Mystery & Thriller', 'The Silent Patient', 68, 821)\n",
      "('Best Horror', 'The Institute', 75, 717)\n",
      "('Best History & Biography', 'The five', 31, 783)\n",
      "('Best Fiction', 'The Testaments', 98, 291)\n"
     ]
    }
   ],
   "source": [
    "book_info =(\n",
    "(\"Best Mystery & Thriller\",\"The Silent Patient\",68,821),\n",
    "(\"Best Horror\",\"The Institute\",75,717),\n",
    "(\"Best History & Biography\",\"The five\",31,783 ),\n",
    "(\"Best Fiction\",\"The Testaments\",98,291)\n",
    ")\n",
    "\n",
    "size = len(book_info)\n",
    "print ('Size of the tuple is:',size )\n",
    "book = {}\n",
    "for book in book_info :\n",
    "    print (book)"
   ]
  },
  {
   "cell_type": "markdown",
   "metadata": {
    "id": "glKgAPlGtDSK"
   },
   "source": [
    "### Task 4\n",
    "\n",
    "Assume, you have been given a tuple. \n",
    "\n",
    "book_info = (\\\n",
    "    (\"Best Mystery & Thriller\",\"The Silent Patient\",68821),\\\n",
    "    (\"Best Horror\",\"The Institute\",75717),\\\n",
    "    (\"Best History & Biography\",\"The five\",31783 ),\\\n",
    "    (\"Best Fiction\",\"The Testaments\",98291)\\\n",
    ")\n",
    "\n",
    "Write a Python program that prints the information about the Good Reads Choice Awards from a tuple. Your program should print the award category, the book name, and its total votes needed for the win.\n",
    "\n",
    "===============================================================\n",
    "\n",
    "**Hint:** You need to handle the quotation marks as a part of the output.\n",
    "**<font color='red'>[Must use Tuple unpacking for printing.]</font>**\n",
    "\n",
    "\n",
    "===============================================================\n",
    "\n",
    "**Output:**\\\n",
    "The Silent Patient won the 'Best Mystery & Thriller' category with 68821 votes\\\n",
    "The Institute won the 'Best Horror' category with 75717 votes\\\n",
    "The five won the 'Best History & Biography' category with 31783 votes\\\n",
    "The Testaments won the 'Best Fiction' category with 98291 votes\n",
    "\n",
    "\n",
    "\n"
   ]
  },
  {
   "cell_type": "code",
   "execution_count": 89,
   "metadata": {
    "id": "LgTKpSGatDSM"
   },
   "outputs": [
    {
     "name": "stdout",
     "output_type": "stream",
     "text": [
      "The Silent Patient won the ' Best Mystery & Thriller ' category with 68821 votes\n",
      "The Institute won the ' Best Horror ' category with 75717 votes\n",
      "The five won the ' Best History & Biography ' category with 31783 votes\n",
      "The Testaments won the ' Best Fiction ' category with 98291 votes\n"
     ]
    }
   ],
   "source": [
    "book_info = (\n",
    "(\"Best Mystery & Thriller\",\"The Silent Patient\",68821),\n",
    "(\"Best Horror\",\"The Institute\",75717),\n",
    "(\"Best History & Biography\",\"The five\",31783 ),\n",
    "(\"Best Fiction\",\"The Testaments\",98291)\n",
    ")\n",
    "\n",
    "length = len(book_info)\n",
    "\n",
    "for index in range (length) :\n",
    "    category, the_book_name , the_total_votes = book_info[index]\n",
    "    print (the_book_name,'won the',\"'\",category,\"'\",'category with',the_total_votes,'votes')\n"
   ]
  },
  {
   "cell_type": "markdown",
   "metadata": {
    "id": "bRe9K_j55zpb"
   },
   "source": [
    "### Task 5\n",
    "Write a python program that takes an input from the user and finds the number of times that input is present in the tuple.\n",
    "\n",
    "\n",
    "[Assume the tuple is give, no need to take it as a input]\n",
    "\n",
    "===============================\n",
    "\n",
    "<b>Example 1 </b><br/>\n",
    "(10, 8, 5, 2, 10, 15, 10, 8, 5, 8, 8, 2) <br/>\n",
    "8<br/>\n",
    "<b> Output 1 </b> <br/>\n",
    "8 appears 4 times in the tuple<br/>\n",
    "\n",
    "=============================================\n",
    "\n",
    "<b> Example 2 </b><br/>\n",
    "(10, 8, 5, 2, 10, 15, 10, 8, 5, 8, 8, 2)<br/>\n",
    "1<br/>\n",
    "<b> Output 2 </b><br/>\n",
    "1 appears 0 times in the tuple"
   ]
  },
  {
   "cell_type": "code",
   "execution_count": 90,
   "metadata": {
    "id": "mC-B1fpStDST"
   },
   "outputs": [
    {
     "name": "stdout",
     "output_type": "stream",
     "text": [
      "8\n",
      "8 appears 4 times in the tuple\n",
      "1\n",
      "1 appears 0 times in the tuple\n"
     ]
    }
   ],
   "source": [
    "#Example1\n",
    "tuple_a = (10, 8, 5, 2, 10, 15, 10, 8, 5, 8, 8, 2) \n",
    "num = int(input())\n",
    "counter = 0\n",
    "\n",
    "for index in tuple_a :\n",
    "    if num == index :\n",
    "        counter = counter + 1\n",
    "    \n",
    "print (num,'appears',counter,'times in the tuple')\n",
    "        \n",
    "\n",
    "#Example2\n",
    "tuple_b = (10, 8, 5, 2, 10, 15, 10, 8, 5, 8, 8, 2)\n",
    "counter = 0\n",
    "num = int(input())\n",
    "\n",
    "for index in tuple_a :\n",
    "    if num == index :\n",
    "        counter = counter + 1\n",
    "    \n",
    "print (num,'appears',counter,'times in the tuple')\n",
    "    \n",
    "\n",
    "\n"
   ]
  },
  {
   "cell_type": "markdown",
   "metadata": {
    "id": "QWNi_JWr6AfC"
   },
   "source": [
    "### Task 6\n",
    "Write a Python program to reverse a tuple. \n",
    "\n",
    "(No need to take tuple as an input from the user. But your task should work for any given Tuple)\n",
    " \n",
    "  <font color='red'>[ You are not allowed to use tuple slicing]</font>\n",
    "  \n",
    "===============================================================\n",
    "\n",
    "<b> Hint: </b>  Unlike lists, tuples are immutable. So, in order to reverse a tuple, first we need to convert it into list, modify the list, then convert it back to tuple. \n",
    "\n",
    "===============================\n",
    "\n",
    "<b>Example 1 </b><br/>\n",
    "('a','b','c','d','e','f','g','h') <br/>\n",
    "<b> Output 1 </b> <br/>\n",
    "('h', 'g', 'f', 'e', 'd', 'c', 'b', 'a')<br/>\n",
    "\n",
    "================================\n",
    "\n",
    "<b> Example 2 </b><br/>\n",
    "(10,20,30,40,50,60)<br/>\n",
    "<b> Output 2 </b><br/>\n",
    "(60, 50, 40, 30, 20, 10)\n",
    "\n"
   ]
  },
  {
   "cell_type": "code",
   "execution_count": 91,
   "metadata": {
    "id": "CJrUcYAN6Bkx"
   },
   "outputs": [
    {
     "name": "stdout",
     "output_type": "stream",
     "text": [
      "('h', 'g', 'f', 'e', 'd', 'c', 'b', 'a')\n",
      "(60, 50, 40, 30, 20, 10)\n"
     ]
    }
   ],
   "source": [
    "#Example1\n",
    "tuple_a = ('a','b','c','d','e','f','g','h') \n",
    "tuple_b = (tuple(reversed(tuple_a)))\n",
    "print (tuple_b)\n",
    "\n",
    "#Example2\n",
    "tuple_a = (10,20,30,40,50,60)\n",
    "tuple_b = (tuple(reversed(tuple_a)))\n",
    "print (tuple_b)\n",
    "\n"
   ]
  },
  {
   "cell_type": "markdown",
   "metadata": {
    "id": "km0QurTJtDSX"
   },
   "source": [
    "## Part 2: Dictionary"
   ]
  },
  {
   "cell_type": "markdown",
   "metadata": {
    "id": "kvV-HnCntDSc"
   },
   "source": [
    "### Task 07\n",
    "Suppose you are given the following two dictionaries.\\\n",
    "Now create a new dictionary marks merging the two of the above dictionaries, **so that the original two dictionaries remain unchanged.**\n",
    "\n",
    "========================================\n",
    "\n",
    "**Hint:** You can use dictionary functions.\n",
    "\n",
    "========================================\n",
    "\n",
    "**Input:**\\\n",
    "{'Harry':15, 'Draco':8, 'Nevil':19}\\\n",
    "{'Ginie':18, 'Luna': 14}\n",
    "\n",
    "**Output:**\\\n",
    "{'Harry': 15, 'Draco': 8, 'Nevil': 19, 'Ginie': 18, 'Luna': 14}\n",
    "\n",
    "\n",
    "========================================\n",
    "\n",
    "**Input:**\\\n",
    "{'A':90, 'B': 0}\\\n",
    "{'C':50}\n",
    "\n",
    "**Output:**\\\n",
    "{'A': 90, 'B': 0, 'C': 50}\n",
    "\n",
    "\n"
   ]
  },
  {
   "cell_type": "code",
   "execution_count": 92,
   "metadata": {
    "id": "BGSyClBPtDSd"
   },
   "outputs": [
    {
     "name": "stdout",
     "output_type": "stream",
     "text": [
      "{'Harry': 15, 'Draco': 8, 'Nevil': 19, 'Ginie': 18, 'Luna': 14}\n",
      "{'A': 90, 'B': 0, 'C': 50}\n"
     ]
    }
   ],
   "source": [
    "#first input\n",
    "A = {'Harry':15, 'Draco':8, 'Nevil':19}\n",
    "B = {'Ginie':18, 'Luna': 14}\n",
    "\n",
    "new_dict = {}\n",
    "\n",
    "new_dict.update(A)\n",
    "new_dict.update(B)\n",
    "\n",
    "print (new_dict)\n",
    "\n",
    "\n",
    "\n",
    "#second input\n",
    "a = {'A':90, 'B': 0}\n",
    "b = {'C':50}\n",
    "\n",
    "new_dict = {}\n",
    "\n",
    "new_dict.update(a)\n",
    "new_dict.update(b)\n",
    "\n",
    "print (new_dict)"
   ]
  },
  {
   "cell_type": "markdown",
   "metadata": {
    "id": "QRzP4HYStDSi"
   },
   "source": [
    "### Task 08\n",
    "Write a Python program that takes a dictionary as a input from the user, then prints the average of all the values in a dictionary.\n",
    "\n",
    " <font color='red'>[ You are not allowed to use len() and sum()]</font>\n",
    "\n",
    "========================================\n",
    "\n",
    "**Hint (1):** \n",
    "\n",
    "Approach(1): For taking dictionary as a input from the user, take the whole dictionary as a string using the input() function. Then use the split(), strip() functions and condition to get the keys and values from the string. Then make the dictionary using the obtained data.\n",
    "\n",
    "Approach(2): If the 1st approach seems to difficult. Create a empty dictionary. Then just run a simple loop. For each iteration ask the user for a key and a value using the input() function and keep updating the dictionary with the key and value.\n",
    "\n",
    "\n",
    "**Hint (2):** You can use dictionary functions to get all the values of the dictionary, then run loop to calculate the sum and the total number of values in the dictionary.\n",
    "\n",
    "========================================\n",
    "\n",
    "**Input:**\\\n",
    "{'Jon': 100, 'Dan':200, 'Rob':300}\n",
    "\n",
    "**Output:**\\\n",
    "Average is 200\n",
    "\n",
    "========================================\n",
    "\n",
    "\n",
    "**Input:**\\\n",
    "{'Jon': 100, 'Dan':200, 'Rob':30}\n",
    "\n",
    "**Output:**\\\n",
    "Average is 110\n",
    "\n",
    "\n"
   ]
  },
  {
   "cell_type": "code",
   "execution_count": 93,
   "metadata": {
    "id": "VMRLnA53tDSk"
   },
   "outputs": [
    {
     "name": "stdout",
     "output_type": "stream",
     "text": [
      "How many elements are inside the dictionary? 3\n",
      "key: jon\n",
      "value: 100\n",
      "key: dan\n",
      "value: 200\n",
      "key: rob\n",
      "value: 300\n",
      "Average is 200\n"
     ]
    }
   ],
   "source": [
    "size = int(input('How many elements are inside the dictionary? '))\n",
    "dictionary = {}\n",
    "sum = 0\n",
    "\n",
    "for index in range (size) :\n",
    "    key = input('key: ')\n",
    "    value = int(input('value: '))\n",
    "    dictionary[key] = value\n",
    "    sum = sum + value\n",
    "\n",
    "avg = sum//size\n",
    "\n",
    "print ('Average is',avg)\n"
   ]
  },
  {
   "cell_type": "markdown",
   "metadata": {
    "id": "le7fZ8XC9j_x"
   },
   "source": [
    "### Task 09\n",
    "Suppose there is a dictionary named exam_marks.\\\n",
    "exam_marks = {'Cierra Vega': 175, 'Alden Cantrell': 200, 'Kierra Gentry': 165, 'Pierre Cox': 190}\n",
    "\n",
    "Now create a new dictionary which filters out all the values lower than the user input\n",
    "\n",
    "===============================\n",
    "\n",
    "**Input:**\\\n",
    "170\\\n",
    "**Output:**\\\n",
    "{'Cierra Vega': 175, 'Alden Cantrell': 200, 'Pierre Cox': 190}\n",
    "\n",
    "===============================\n",
    "\n",
    "**Input:**\\\n",
    "190\\\n",
    "**Output:**\\\n",
    "{'Alden Cantrell': 200, 'Pierre Cox': 190}"
   ]
  },
  {
   "cell_type": "code",
   "execution_count": 94,
   "metadata": {
    "id": "qJWoUsLN9lBY"
   },
   "outputs": [
    {
     "name": "stdout",
     "output_type": "stream",
     "text": [
      "170\n",
      "{'Cierra Vega': 175, 'Alden Cantrell': 200, 'Pierre Cox': 190}\n"
     ]
    }
   ],
   "source": [
    "exam_marks = {'Cierra Vega': 175, 'Alden Cantrell': 200, 'Kierra Gentry': 165, 'Pierre Cox': 190}\n",
    "new_dict = {}\n",
    "user_input = int(input())\n",
    "\n",
    "for key,value in exam_marks.items() :\n",
    "    if value >= user_input :\n",
    "        new_dict[key] = value\n",
    "\n",
    "print (new_dict)\n"
   ]
  },
  {
   "cell_type": "markdown",
   "metadata": {
    "id": "IsqFQpqKtDSs"
   },
   "source": [
    "### Task 10\n",
    "Write a Python program that finds the largest value with its key from the following sample dictionararies. \n",
    "\n",
    "(No need to take any dictionary as an input from the user. But your task should work for any given dictionaries)\n",
    "\n",
    " <font color='red'>[without using max() function]</font> \n",
    "\n",
    "===============================================================\n",
    "\n",
    "**Hint:** Think of membership operators (in and not in). You can use dictionary functions to get the values.\n",
    "\n",
    "===============================================================\n",
    "\n",
    "**Example1:**\\\n",
    " {'sci fi': 12, 'mystery': 15, 'horror': 8, 'mythology': 10, 'young_adult': 4, 'adventure':14}\n",
    "\n",
    "**Output:**\\\n",
    "The highest selling book genre is mystery and the number of books sold are 15\n",
    "\n",
    "===============================================================\n",
    "\n",
    "**Example2:**\\\n",
    "{'sci fi': 5, 'mystery': 3, 'horror': 14,\n",
    "             'young_adult': 2, 'adventure':9}\n",
    "\n",
    "**Output:**\\\n",
    "The highest selling book genre is  horror  and the number of books sold are  14\n",
    "\n",
    "\n"
   ]
  },
  {
   "cell_type": "code",
   "execution_count": 95,
   "metadata": {
    "id": "v9Kosgs4tDSt"
   },
   "outputs": [
    {
     "name": "stdout",
     "output_type": "stream",
     "text": [
      "The highest selling book genre is mystery and the number of books sold are 15\n",
      "The highest selling book genre is horror and the number of books sold are 14\n"
     ]
    }
   ],
   "source": [
    "#Example1\n",
    "dictionary = {'sci fi': 12, 'mystery': 15, 'horror': 8, 'mythology': 10, 'young_adult': 4, 'adventure':14}\n",
    "max = -100000\n",
    "max_key = ''\n",
    "\n",
    "for key,value in dictionary.items() :\n",
    "    if value > max :\n",
    "        max = value\n",
    "        max_key = key\n",
    "\n",
    "print ('The highest selling book genre is',max_key,'and the number of books sold are',max)\n",
    "\n",
    "\n",
    "#Example2\n",
    "dictionary = {'sci fi': 5, 'mystery': 3, 'horror': 14, 'young_adult': 2, 'adventure':9}\n",
    "max = -100000\n",
    "max_key = ''\n",
    "\n",
    "for key,value in dictionary.items() :\n",
    "    if value > max :\n",
    "        max = value\n",
    "        max_key = key\n",
    "\n",
    "print ('The highest selling book genre is',max_key,'and the number of books sold are',max)"
   ]
  },
  {
   "cell_type": "markdown",
   "metadata": {
    "id": "qozufw7itDSy"
   },
   "source": [
    "### Task 11\n",
    "Write a Python program that combines two dictionary **adding values for common keys**. \n",
    "\n",
    "(No need to take any dictionary as an input from the user. But your task should work for any two given dictionaries)\n",
    "\n",
    "===============================================================\n",
    "\n",
    "**Hint:** Think of membership operators (in and not in). You can use dictionary functions to get the values. Need to create a new dictionary to store the combined items.\n",
    "\n",
    "===============================================================\n",
    "\n",
    "**Example1:**\\\n",
    "dict1 = {'a': 10, 'b':20, 'c':30}\\\n",
    "dict2 = {'a': 10, 'c':20, 'd':30, 'e':40}\n",
    "\n",
    "**Output:**\\\n",
    "{'a': 20, 'b': 20, 'c': 50, 'd': 30, 'e': 40}\n",
    "\n",
    "===============================================================\n",
    "\n",
    "**Example2:**\\\n",
    "dict1 = {'chocolate': -100, 'ice_cream': 50}\\\n",
    "dict2 = {'fanta':-500, 'chocolate': -100, '7_up':400}\n",
    "\n",
    "**Output:**\\\n",
    "{'chocolate': -200, 'ice_cream': 50, 'fanta': -500, '7_up': 400}"
   ]
  },
  {
   "cell_type": "code",
   "execution_count": 96,
   "metadata": {
    "id": "S0EIYODZtDSz"
   },
   "outputs": [
    {
     "name": "stdout",
     "output_type": "stream",
     "text": [
      "{'a': 20, 'b': 20, 'c': 50, 'd': 30, 'e': 40}\n",
      "{'chocolate': -200, 'ice_cream': 50, 'fanta': -500, '7_up': 400}\n"
     ]
    }
   ],
   "source": [
    "#Example1\n",
    "n={}\n",
    "dict1 = {'a': 10, 'b':20, 'c':30}\n",
    "dict2 = {'a': 10, 'c':20, 'd':30, 'e':40}\n",
    "n.update(dict1)\n",
    "\n",
    "\n",
    "for key in dict2:\n",
    "     if key not in n: \n",
    "        n[key] = dict2[key]\n",
    "     else: \n",
    "        n[key]+=dict2[key]\n",
    "\n",
    "\n",
    "print(n)\n",
    "\n",
    "#Example2\n",
    "n={}\n",
    "dict1 = {'chocolate': -100, 'ice_cream': 50}\n",
    "dict2 = {'fanta':-500, 'chocolate': -100, '7_up':400}\n",
    "n.update(dict1)\n",
    "\n",
    "\n",
    "for key in dict2:\n",
    "     if key not in n: \n",
    "        n[key] = dict2[key]\n",
    "     else: \n",
    "        n[key]+=dict2[key]\n",
    "\n",
    "\n",
    "print(n)"
   ]
  },
  {
   "cell_type": "markdown",
   "metadata": {
    "id": "d0a82nIt9ufj"
   },
   "source": [
    "### Task 12\n",
    "Write a Python program which prints the frequency of the numbers that were given as input by the user. Stop taking input when you find the string \"STOP\".\n",
    "\n",
    "===============================\n",
    "\n",
    "**Hints:** Use a dictionary to solve the problem\n",
    "\n",
    "===============================\n",
    "\n",
    "**Input:**\\\n",
    "10, 20, 20, 30, 10, 50, 90, STOP\n",
    "\n",
    "**Output:**\\\n",
    "10 - 2 times\\\n",
    "20 - 2 times\\\n",
    "30 - 1 times\\\n",
    "50 - 1 times\\\n",
    "90 - 1 times\n"
   ]
  },
  {
   "cell_type": "code",
   "execution_count": 97,
   "metadata": {
    "id": "snOKGA1d9vFC"
   },
   "outputs": [
    {
     "name": "stdout",
     "output_type": "stream",
     "text": [
      "10\n",
      "20\n",
      "20\n",
      "30\n",
      "10\n",
      "50\n",
      "90\n",
      "STOP\n",
      "10 - 2 times\n",
      "20 - 2 times\n",
      "30 - 1 times\n",
      "50 - 1 times\n",
      "90 - 1 times\n"
     ]
    }
   ],
   "source": [
    "list_x = []\n",
    "while True :\n",
    "    num = input()\n",
    "    if num == 'STOP' :\n",
    "        break\n",
    "    else:\n",
    "        list_x.append(int(num))\n",
    "        \n",
    "count = {}\n",
    "for index in list_x :\n",
    "    if index in count.keys() :\n",
    "        count[index] += 1\n",
    "    else:\n",
    "        count[index] = 1\n",
    "for index in count.keys() :\n",
    "    print (index,'-',count[index],'times')"
   ]
  },
  {
   "cell_type": "markdown",
   "metadata": {
    "id": "hAqjgwGNtDS2"
   },
   "source": [
    "### Task 13\n",
    "Write a Python program that takes a string as an input from the user and counts the frequency of each character using the dictionary. For solving this problem, you need to use each character as a key and its frequency as values. <font color='red'>[without using count() function]</font> \n",
    "\n",
    "===============================================================\n",
    "\n",
    "**Hint:** Need to create a new dictionary to store the frequency. Case is ignored (P and p are considered same).\n",
    "\n",
    "\n",
    "===============================================================\n",
    "\n",
    "**Input:**\\\n",
    "\"Python programming is fun\"\n",
    "\n",
    "**Output:**\\\n",
    "{'p': 2, 'y': 1, 't': 1, 'h': 1, 'o': 2, 'n': 3, 'r': 2, 'g': 2, 'a': 1, 'm': 2, 'i': 2, 's': 1, 'f': 1, 'u': 1}\n",
    "\n",
    "\n",
    "\n"
   ]
  },
  {
   "cell_type": "code",
   "execution_count": 98,
   "metadata": {
    "id": "-m2yPIT7tDS3"
   },
   "outputs": [
    {
     "name": "stdout",
     "output_type": "stream",
     "text": [
      "Python programming is fun\n",
      "{'p': 2, 'y': 1, 't': 1, 'h': 1, 'o': 2, 'n': 3, 'r': 2, 'g': 2, 'a': 1, 'm': 2, 'i': 2, 's': 1, 'f': 1, 'u': 1}\n"
     ]
    }
   ],
   "source": [
    "word = input()\n",
    "new_word = ''\n",
    "for index in word.lower() :\n",
    "    if index == ' ' :\n",
    "        continue\n",
    "    new_word = new_word + index\n",
    "        \n",
    "dict_a = {}\n",
    "\n",
    "for index in new_word :\n",
    "    if index in dict_a :\n",
    "        dict_a[index] = dict_a[index] + 1\n",
    "    else :\n",
    "        dict_a[index] = 1\n",
    "\n",
    "print (dict_a)"
   ]
  },
  {
   "cell_type": "markdown",
   "metadata": {
    "id": "QWf1zsBctDS6"
   },
   "source": [
    "### Task 14\n",
    "Suppose you are given the following dictionary where its values are lists. \n",
    "\n",
    "\n",
    "dict = {'A': [1,2,3], 'b': ['1', '2'], \"c\": [4, 5, 6, 7]}\n",
    "\n",
    "Write a Python program that counts the total number of items in the dictionary’s values and prints it. \n",
    "\n",
    "<font color='red'>[without using sum() , len(), count() function]</font> \n",
    "\n",
    "===============================================================\n",
    "\n",
    "**Output:**\\\n",
    "9\n",
    "\n"
   ]
  },
  {
   "cell_type": "code",
   "execution_count": 1,
   "metadata": {
    "id": "atnD3A1utDS6"
   },
   "outputs": [
    {
     "name": "stdout",
     "output_type": "stream",
     "text": [
      "3\n",
      "[[1, 2, 3], ['1', '2'], [4, 5, 6, 7]]\n",
      "9\n"
     ]
    }
   ],
   "source": [
    "dict = {'A': [1,2,3], 'b': ['1', '2'], \"c\": [4, 5, 6, 7]}\n",
    "counter = 0\n",
    "list = []\n",
    "\n",
    "for index in dict.values() :\n",
    "    list.append(index)\n",
    "    \n",
    "length = len(list)\n",
    "print (length)\n",
    "for index in list :\n",
    "    for z in range (length) :\n",
    "        counter += 1\n",
    "print (list)\n",
    "print (counter)"
   ]
  },
  {
   "cell_type": "markdown",
   "metadata": {
    "id": "-imuPb3EtDTD"
   },
   "source": [
    "### Task 15\n",
    "\n",
    "Suppose you have been given the following list of tuples. \n",
    "\n",
    "list = [(\"a\", 1), (\"b\", 2), (\"a\", 3), (\"b\", 1), (\"a\", 2), (\"c\", 1)]\n",
    "\n",
    "Write a Python program that converts this list of tuples into a dictionary and prints the dictionary. \n",
    "\n",
    "<font color='red'>[You are not allowed to use set]</font> \n",
    "\n",
    "===============================================================\n",
    "\n",
    "**Hint:** Think of membership operators (in and not in).\n",
    "\n",
    "===============================================================\n",
    "\n",
    "**Output:**\n",
    "\n",
    "{'a': [1, 3, 2], 'b': [2, 1], 'c': [1]}\n",
    "\n",
    " \n"
   ]
  },
  {
   "cell_type": "code",
   "execution_count": 100,
   "metadata": {
    "id": "bBBcHpgYtDTE"
   },
   "outputs": [
    {
     "name": "stdout",
     "output_type": "stream",
     "text": [
      "{'a': [1, 3, 2], 'b': [2, 1], 'c': [1]}\n"
     ]
    }
   ],
   "source": [
    "list = [(\"a\", 1), (\"b\", 2), (\"a\", 3), (\"b\", 1), (\"a\", 2), (\"c\", 1)]\n",
    "dic = {}\n",
    "\n",
    "for tuples in list :\n",
    "    if tuples[0] in dic :\n",
    "        dic[tuples[0]].append(tuples[1])\n",
    "    else :\n",
    "        dic[tuples[0]] = []\n",
    "        dic[tuples[0]].append(tuples[1])\n",
    "        \n",
    "print (dic)"
   ]
  },
  {
   "cell_type": "markdown",
   "metadata": {
    "id": "UrxbFOWk5ASO"
   },
   "source": [
    "## Optional Tasks (16-20) [Ungraded]"
   ]
  },
  {
   "cell_type": "markdown",
   "metadata": {
    "id": "vtQRbX994-Se"
   },
   "source": [
    "### Task 16\n",
    "\n",
    "Given a list of tuples, the task is to multiply the elements of the tuple and return list of multiplied elements.\n",
    "\n",
    "===============================\n",
    "\n",
    "**Example 1:**\\\n",
    "[(2,3),(4,5),(6,7),(2,8)]\\\n",
    "**Output 1:**\\\n",
    "[6,20,42,16]\n",
    "\n",
    "=============================\n",
    "\n",
    "**Example 2:**\\\n",
    " [(11, 22), (33, 55), (55, 77), (11, 44)]\\\n",
    "**Output 2:**\\\n",
    "[242, 1815, 4235, 484]"
   ]
  },
  {
   "cell_type": "code",
   "execution_count": 1,
   "metadata": {
    "id": "xy-E_k6y5maj"
   },
   "outputs": [
    {
     "name": "stdout",
     "output_type": "stream",
     "text": [
      "[6, 20, 42, 16]\n"
     ]
    }
   ],
   "source": [
    "a_list = [(2, 3), (4, 5), (6, 7), (2, 8)]\n",
    "b_list = []\n",
    "\n",
    "for index in a_list :\n",
    "    b_list.append(index[0]*index[1])\n",
    "\n",
    "print (b_list)"
   ]
  },
  {
   "cell_type": "markdown",
   "metadata": {
    "id": "jZQHbegc-QBA"
   },
   "source": [
    "### Task 17\n",
    "\n",
    "Assume, you have been given a tuple.\n",
    "\n",
    "a_tuple = ( [1, 2, 3], [4, 5, 6], [7, 8, 9], [10, 11, 12])\n",
    "\n",
    "Write a Python program that asks the user for input (can be any data type) and **replaces the last element of each of the inner lists with the user given value.**\n",
    "\n",
    "===============================================================\n",
    "\n",
    "**Example 1:**\\\n",
    "Input: abc\\\n",
    "Output: ([1, 2, 'abc'], [4, 5, 'abc'], [7, 8, 'abc'], [10, 11, 'abc'])\n",
    "\n",
    "===============================================================\n",
    "\n",
    "**Example 2:**\\\n",
    "Input: 1000\\\n",
    "Output: ([1, 2, '1000'], [4, 5, '1000'], [7, 8, '1000'], [10, 11, '1000'])\n",
    "\n"
   ]
  },
  {
   "cell_type": "code",
   "execution_count": null,
   "metadata": {
    "id": "SjdnEjCz5op1"
   },
   "outputs": [],
   "source": [
    "#todo"
   ]
  },
  {
   "cell_type": "markdown",
   "metadata": {
    "id": "dVZrZ8Od6WwM"
   },
   "source": [
    "### Task 18\n",
    "\n",
    "Suppose there is a dictionary named my_dictionary.\n",
    "\n",
    "my_dictionary = {'c1': 'Red', 'c2': 'Green', 'c3': None, 'd4': 'Blue'}.\n",
    "\n",
    "Now write a Python program to remove empty items in the dictionary. Empty items means keys without any values(None).\n",
    "\n",
    "===============================================================\n",
    "\n",
    "**Output:**\\\n",
    "{'c1':'Red','c2':'Green','d4':'Blue'}."
   ]
  },
  {
   "cell_type": "code",
   "execution_count": null,
   "metadata": {
    "id": "cK9Nh7-F6YUE"
   },
   "outputs": [],
   "source": [
    "#todo"
   ]
  },
  {
   "cell_type": "markdown",
   "metadata": {
    "id": "_W2bOMJn62xF"
   },
   "source": [
    "### Task 19\n",
    "\n",
    "Given a range of values, extract all the items whose keys lie in range of values of a given dictionary:\n",
    "\n",
    "dictionary = {'a' : 6, 'b' : 7, 'c' : 9, 'd' : 8, 'e' : 11}\n",
    "\n",
    "===============================\n",
    "\n",
    "\n",
    "**Input 1:**\\\n",
    "9, 12\\\n",
    "**Output 1:**\\\n",
    "{'c': 9, 'e': 11}\n",
    "\n",
    "**Explanation**  Keys within 9 and 11 range extracted.\n",
    "\n",
    "=================================\n",
    "\n",
    "**Input 2:** \\\n",
    " 14, 18\n",
    "\n",
    "**Output 2 :**\\\n",
    " {}\n",
    "\n",
    "**Explanation :**  No values in range."
   ]
  },
  {
   "cell_type": "code",
   "execution_count": null,
   "metadata": {
    "id": "MLh9VlLD633D"
   },
   "outputs": [],
   "source": [
    "#todo"
   ]
  },
  {
   "cell_type": "markdown",
   "metadata": {
    "id": "zC94TVcD7LqM"
   },
   "source": [
    "### Task 20\n",
    "\n",
    "Given a list of tuples, the task is to group the tuples by matching the **second** element in the tuples. We can achieve this using **dictionary** by checking the second element in each tuple.\n",
    "[Do not need to take tuple as input, assume it is given]\n",
    "\n",
    "\n",
    "===============================\n",
    "\n",
    "**Example 1:**\\\n",
    "[(20, 80), (31, 80), (1, 22), (88, 11), (27, 11)]\\\n",
    "**Output1:**\\\n",
    "{80: [(20, 80), (31, 80)],\\\n",
    "         11: [(88, 11), (27, 11)],\\\n",
    "         22: [(1, 22)]}\n",
    "\n",
    "         \n",
    "============================================\n",
    "\n",
    "**Example 2 :**\\\n",
    "[(20, 'Sad'), (31, 'Sad'), (88, 'NotSad'), (27, 'NotSad')]\\\n",
    "**Output 2:**\\\n",
    "{'NotSad': [(88, 'NotSad'), (27, 'NotSad')],\\\n",
    "         'Sad: [(20, 'Sad'), (31, 'Sad')]}"
   ]
  },
  {
   "cell_type": "code",
   "execution_count": null,
   "metadata": {
    "id": "zAunp7oZ7H-l"
   },
   "outputs": [],
   "source": [
    "#todo"
   ]
  }
 ],
 "metadata": {
  "colab": {
   "collapsed_sections": [],
   "name": "CSE110 Assignment04 (Tuple- Dictionary).ipynb",
   "provenance": []
  },
  "kernelspec": {
   "display_name": "Python 3",
   "language": "python",
   "name": "python3"
  },
  "language_info": {
   "codemirror_mode": {
    "name": "ipython",
    "version": 3
   },
   "file_extension": ".py",
   "mimetype": "text/x-python",
   "name": "python",
   "nbconvert_exporter": "python",
   "pygments_lexer": "ipython3",
   "version": "3.8.3"
  }
 },
 "nbformat": 4,
 "nbformat_minor": 1
}
